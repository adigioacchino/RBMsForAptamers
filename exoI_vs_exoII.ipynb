{
 "cells": [
  {
   "cell_type": "code",
   "execution_count": 1,
   "id": "07f88ddf",
   "metadata": {},
   "outputs": [],
   "source": [
    "# this clones the PGM repository in the ./PGM folder if it does not exists\n",
    "# please modify this line as needed if you want to have the PMG repository elsewhere\n",
    "import os, sys\n",
    "pgm_path = './PGM/'\n",
    "if not os.path.isdir(pgm_path): # check if folder exists\n",
    "    from git import Repo\n",
    "    Repo.clone_from(\"https://github.com/jertubiana/PGM.git\", pgm_path)\n",
    "sys.path.append('./PGM/source/')\n",
    "sys.path.append('./PGM/utilities/')\n",
    "sys.path.append('./DNA_utils/')"
   ]
  },
  {
   "cell_type": "code",
   "execution_count": 2,
   "id": "633cab23",
   "metadata": {},
   "outputs": [
    {
     "name": "stderr",
     "output_type": "stream",
     "text": [
      "./PGM/source\\numba_utilities.py:1124: NumbaPerformanceWarning: \u001b[1m\u001b[1m\u001b[1mnp.dot() is faster on contiguous arrays, called on (array(float32, 2d, F), array(float32, 2d, A))\u001b[0m\u001b[0m\u001b[0m\n",
      "  dmean_v_dw = np.dot(s1.T, V)\n",
      "./PGM/source\\numba_utilities.py:961: NumbaPerformanceWarning: \u001b[1m\u001b[1m\u001b[1mnp.dot() is faster on contiguous arrays, called on (array(float32, 1d, A), array(float32, 2d, A))\u001b[0m\u001b[0m\u001b[0m\n",
      "  mean_V = np.dot(weights, V) / sum_weights\n"
     ]
    }
   ],
   "source": [
    "# imports \n",
    "from common_imports import set_num_threads\n",
    "set_num_threads(2) # Set the number of cores. Must be executed before importing numpy&numba.\n",
    "import rbm, RBM_utils\n",
    "import DNA_utils, DNA_sequence_logo, DNA_plots_utils\n",
    "\n",
    "import pandas as pd\n",
    "import numpy as np\n",
    "from matplotlib import pyplot as plt\n",
    "\n",
    "%matplotlib inline"
   ]
  },
  {
   "cell_type": "code",
   "execution_count": 3,
   "id": "aa0ee8ef",
   "metadata": {},
   "outputs": [
    {
     "name": "stdout",
     "output_type": "stream",
     "text": [
      "Mismatch dimensions (1000, 80), [10, 80], reinitializating I\n",
      "Mismatch dimensions (1000, 20, 4), [10, 20, 4], reinitializating I\n",
      "Mismatch dimensions (500, 70), [10, 70], reinitializating I\n",
      "Mismatch dimensions (500, 20, 4), [10, 20, 4], reinitializating I\n"
     ]
    },
    {
     "data": {
      "text/plain": [
       "(96.83699, 0.01574763417730498)"
      ]
     },
     "execution_count": 3,
     "metadata": {},
     "output_type": "execute_result"
    }
   ],
   "source": [
    "# load pre-trained RBM and pre-compute the partition functions\n",
    "path = './trained_RBMs/'\n",
    "file_name = 'RBM_SC8.data'\n",
    "RBM_sc = RBM_utils.loadRBM(path + file_name)\n",
    "RBM_sc.AIS(n_betas=40000,verbose=0)\n",
    "\n",
    "file_name = 'RBM_SU8.data'\n",
    "RBM_su = RBM_utils.loadRBM(path + file_name)\n",
    "RBM_su.AIS(n_betas=40000,verbose=0)"
   ]
  },
  {
   "cell_type": "code",
   "execution_count": 4,
   "id": "35dad657",
   "metadata": {},
   "outputs": [],
   "source": [
    "# load round 8 data\n",
    "path = './data/'\n",
    "filename = 's100_8th.fasta'\n",
    "all_data_8, counts_8 = DNA_utils.load_DNA_MSA(path + filename, drop_duplicates=True, with_counts = True)\n",
    "full_data_8 = np.repeat(all_data_8, counts_8, axis=0)\n",
    "\n",
    "# split left and right data\n",
    "seqs_8_l_2num, counts_8_l = np.unique(full_data_8[:, :20], return_counts=True, axis=0)\n",
    "all_data_8_l = pd.DataFrame({'sequence' : DNA_utils.num2seq(seqs_8_l_2num),\n",
    "                             'counts' : counts_8_l})\n",
    "\n",
    "seqs_8_r_2num, counts_8_r = np.unique(full_data_8[:, 20:], return_counts=True, axis=0)\n",
    "all_data_8_r = pd.DataFrame({'sequence' : DNA_utils.num2seq(seqs_8_r_2num),\n",
    "                             'counts' : counts_8_r})\n",
    "\n",
    "# put both rounds together\n",
    "all_data_8_lr = pd.concat([all_data_8_l, all_data_8_r])\n",
    "all_data_8_lr = all_data_8_lr.reset_index(drop=True)\n",
    "all_data_8_lr = all_data_8_lr.groupby(by=[\"sequence\"], as_index=False).sum()\n",
    "all_data_8_lr = all_data_8_lr.sort_values(by='counts', ascending=False).reset_index(drop=True)\n",
    "all_seq_8_lr = DNA_utils.seq2num(all_data_8_lr[\"sequence\"].to_list())\n",
    "counts_8_lr = all_data_8_lr['counts'].to_numpy()"
   ]
  },
  {
   "cell_type": "code",
   "execution_count": 5,
   "id": "99eeaa91",
   "metadata": {},
   "outputs": [],
   "source": [
    "# compute loglikelihood for round 8 sequences\n",
    "all_data_8_lr['loglikelihood'] = RBM_su.likelihood(all_seq_8_lr)\n",
    "all_data_8_lr['loglikelihood_SC'] = RBM_sc.likelihood(all_seq_8_lr)"
   ]
  },
  {
   "cell_type": "code",
   "execution_count": 9,
   "id": "21c73285",
   "metadata": {},
   "outputs": [],
   "source": [
    "# load experimental data\n",
    "filename = './data/Aptamer_Exp_Results.csv'\n",
    "exp_df = pd.read_csv(filename)\n",
    "exp_rounds = []\n",
    "for l in exp_df['label']:\n",
    "    if 'd' in l:\n",
    "        exp_rounds.append(1)\n",
    "    elif ('r' in l) and (int(l[1:]) <= 23):\n",
    "        exp_rounds.append(2)\n",
    "    elif 'p' in l:\n",
    "        exp_rounds.append(3)\n",
    "    else:\n",
    "        exp_rounds.append(4)\n",
    "exp_df['experimental_round'] = exp_rounds\n",
    "# add ThA, ThD with exp round -1\n",
    "t_df1 = pd.DataFrame({\"label\":[\"ThA\"], \"sequence\":[\"AGGGATGATGTGTGGTAGGC\"], \n",
    "                     \"binder\":[\"B\"],\"binding site\":[\"II\"], \"experimental_round\":[-1]})\n",
    "# add ThB with exp round -1\n",
    "t_df2 = pd.DataFrame({\"label\":[\"ThB\"], \"sequence\":[\"AGGGTAGGTGTGGATGATGC\"], \n",
    "                     \"binder\":[\"B\"],\"binding site\":[\"II\"], \"experimental_round\":[-1]})\n",
    "# add ThC with exp round -1\n",
    "t_df3 = pd.DataFrame({\"label\":[\"ThC\"], \"sequence\":[\"TAGGTTTTGGGTAGGGTGGT\"], \n",
    "                     \"binder\":[\"B\"],\"binding site\":[\"I\"], \"experimental_round\":[-1]})\n",
    "# add ThD with exp round -1\n",
    "t_df4 = pd.DataFrame({\"label\":[\"ThD\"], \"sequence\":[\"GTAGGATGGGTAGGGTGGTC\"], \n",
    "                     \"binder\":[\"B\"],\"binding site\":[\"I\"], \"experimental_round\":[-1]})\n",
    "exp_df = pd.concat([t_df1, t_df2, t_df3, t_df4, exp_df])\n",
    "\n",
    "exp_df[\"loglik\"] = RBM_su.likelihood(DNA_utils.seq2num(exp_df[\"sequence\"].to_list()))\n",
    "exp_df[\"loglik_SC\"] = RBM_sc.likelihood(DNA_utils.seq2num(exp_df[\"sequence\"].to_list()))\n",
    "\n",
    "# create 3 dataset: general binders and AB and CD specific binders, only rounds -1, 2 and 3 (so ThX, r<23, and p sequences)\n",
    "allowed_rounds = [-1, 2, 3]\n",
    "df_binders_AB = exp_df[(exp_df['experimental_round'].isin(allowed_rounds)) & (exp_df['binding site']=='II')]\n",
    "df_binders_CD = exp_df[(exp_df['experimental_round'].isin(allowed_rounds)) & (exp_df['binding site']=='I')]"
   ]
  },
  {
   "cell_type": "code",
   "execution_count": 10,
   "id": "927ff41c",
   "metadata": {},
   "outputs": [
    {
     "data": {
      "image/png": "[encoded data removed]",
      "text/plain": [
       "<Figure size 936x432 with 2 Axes>"
      ]
     },
     "metadata": {
      "needs_background": "light"
     },
     "output_type": "display_data"
    }
   ],
   "source": [
    "# two 2panel figs: first the two violin plots\n",
    "# make figure\n",
    "fig = plt.figure(figsize=(13, 6))\n",
    "gs = fig.add_gridspec(ncols=2, nrows=1, hspace=0.1, wspace=0.1)\n",
    "\n",
    "############################################################################################################################\n",
    "ax2 = fig.add_subplot(gs[0,0])\n",
    "data = np.array([df_binders_AB[\"loglik\"].to_numpy(), df_binders_CD[\"loglik\"].to_numpy()])\n",
    "parts = ax2.violinplot(\n",
    "        data, showmeans=False, showmedians=False,\n",
    "        showextrema=False, vert=False)\n",
    "for i,pc in enumerate(parts['bodies']):\n",
    "    if i==0:\n",
    "        pc.set_facecolor('C2')\n",
    "        pc.set_edgecolor('black')\n",
    "        pc.set_alpha(0.1)\n",
    "    elif i==1:\n",
    "        pc.set_facecolor('C3')\n",
    "        pc.set_edgecolor('black')\n",
    "        pc.set_alpha(0.1)        \n",
    "        \n",
    "quartile1, medians, quartile3 = np.array([np.percentile(d, [25, 50, 75]) for d in data]).T\n",
    "inds = np.arange(1, len(medians) + 1)\n",
    "ax2.scatter(medians, inds, marker='o', color=['C2', 'C3'], s=120, zorder=1)\n",
    "ax2.hlines(inds, quartile1,  quartile3, color=['C2', 'C3'], linestyle='-', lw=2, zorder=3)\n",
    "ax2.scatter(data[0], np.full(len(data[0]),1), marker='o', color='white', s=40, edgecolors='k', zorder=2)\n",
    "ax2.scatter(data[1], np.full(len(data[1]),2), marker='o', color='white', s=40, edgecolors='k', zorder=2)\n",
    "\n",
    "ax2.set_xlabel(\"Log-likelihood (RBM-SU)\", size=20)\n",
    "ax2.set_yticks([1,2])\n",
    "ax2.set_yticklabels([\"Exosite II\", \"Exosite I\"])\n",
    "ax2.tick_params(axis='both', direction='in', length=6, width=2, colors='k')\n",
    "ax2.tick_params(which='minor', direction='in', length=0, width=2, colors='k')\n",
    "ax2.tick_params(axis='both', labelsize=18)\n",
    "ax2.text(0.03, 0.91, 'a', fontsize=30, \n",
    "         color='k', weight='bold', transform=ax2.transAxes)\n",
    "############################################################################################################################\n",
    "ax2 = fig.add_subplot(gs[0,1])\n",
    "data = np.array([df_binders_AB[\"loglik_SC\"].to_numpy(), df_binders_CD[\"loglik_SC\"].to_numpy()])\n",
    "parts = ax2.violinplot(\n",
    "        data, showmeans=False, showmedians=False,\n",
    "        showextrema=False, vert=False)\n",
    "for i,pc in enumerate(parts['bodies']):\n",
    "    if i==0:\n",
    "        pc.set_facecolor('C2')\n",
    "        pc.set_edgecolor('black')\n",
    "        pc.set_alpha(0.1)\n",
    "    elif i==1:\n",
    "        pc.set_facecolor('C3')\n",
    "        pc.set_edgecolor('black')\n",
    "        pc.set_alpha(0.1)        \n",
    "        \n",
    "quartile1, medians, quartile3 = np.array([np.percentile(d, [25, 50, 75]) for d in data]).T\n",
    "inds = np.arange(1, len(medians) + 1)\n",
    "ax2.scatter(medians, inds, marker='o', color=['C2', 'C3'], s=120, zorder=1)\n",
    "ax2.hlines(inds, quartile1,  quartile3, color=['C2', 'C3'], linestyle='-', lw=2, zorder=3)\n",
    "ax2.scatter(data[0], np.full(len(data[0]),1), marker='o', color='white', s=40, edgecolors='k', zorder=2)\n",
    "ax2.scatter(data[1], np.full(len(data[1]),2), marker='o', color='white', s=40, edgecolors='k', zorder=2)\n",
    "\n",
    "ax2.set_xlabel(\"Log-likelihood (RBM-SC)\", size=20)\n",
    "ax2.set_yticks([1,2])\n",
    "ax2.set_yticklabels([\"Exosite II\", \"Exosite I\"])\n",
    "ax2.tick_params(axis='both', direction='in', length=6, width=2, colors='k')\n",
    "ax2.tick_params(which='minor', direction='in', length=0, width=2, colors='k')\n",
    "ax2.tick_params(axis='both', labelsize=18)\n",
    "ax2.text(0.03, 0.91, 'b', fontsize=30, \n",
    "         color='k', weight='bold', transform=ax2.transAxes)\n",
    "ax2.set_xticks([-17.5, -12.5, -7.5])\n",
    "ax2.yaxis.tick_right()\n",
    "ax2.yaxis.set_label_position(\"right\")\n",
    "############################################################################################################################"
   ]
  },
  {
   "cell_type": "code",
   "execution_count": null,
   "id": "99cfddbc",
   "metadata": {},
   "outputs": [],
   "source": []
  }
 ],
 "metadata": {
  "kernelspec": {
   "display_name": "Python 3 (ipykernel)",
   "language": "python",
   "name": "python3"
  },
  "language_info": {
   "codemirror_mode": {
    "name": "ipython",
    "version": 3
   },
   "file_extension": ".py",
   "mimetype": "text/x-python",
   "name": "python",
   "nbconvert_exporter": "python",
   "pygments_lexer": "ipython3",
   "version": "3.8.8"
  }
 },
 "nbformat": 4,
 "nbformat_minor": 5
}
