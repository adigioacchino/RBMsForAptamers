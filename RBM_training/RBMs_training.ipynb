{
 "cells": [
  {
   "cell_type": "code",
   "execution_count": 1,
   "id": "9cc978a0",
   "metadata": {},
   "outputs": [],
   "source": [
    "# this clones the PGM repository in the ../PGM folder if it does not exists\n",
    "# please modify this line as needed if you want to have the PMG repository elsewhere\n",
    "import os, sys\n",
    "pgm_path = '../PGM/'\n",
    "if not os.path.isdir(pgm_path): # check if folder exists\n",
    "    from git import Repo\n",
    "    Repo.clone_from(\"https://github.com/jertubiana/PGM.git\", pgm_path)\n",
    "sys.path.append(pgm_path + 'source/')\n",
    "sys.path.append(pgm_path + 'utilities/')\n",
    "sys.path.append('../DNA_utils/')"
   ]
  },
  {
   "cell_type": "code",
   "execution_count": 2,
   "id": "560ee50d",
   "metadata": {},
   "outputs": [
    {
     "name": "stderr",
     "output_type": "stream",
     "text": [
      "../PGM/source\\numba_utilities.py:1124: NumbaPerformanceWarning: \u001b[1m\u001b[1m\u001b[1mnp.dot() is faster on contiguous arrays, called on (array(float32, 2d, F), array(float32, 2d, A))\u001b[0m\u001b[0m\u001b[0m\n",
      "  dmean_v_dw = np.dot(s1.T, V)\n",
      "../PGM/source\\numba_utilities.py:961: NumbaPerformanceWarning: \u001b[1m\u001b[1m\u001b[1mnp.dot() is faster on contiguous arrays, called on (array(float32, 1d, A), array(float32, 2d, A))\u001b[0m\u001b[0m\u001b[0m\n",
      "  mean_V = np.dot(weights, V) / sum_weights\n"
     ]
    }
   ],
   "source": [
    "# imports\n",
    "from common_imports import set_num_threads\n",
    "set_num_threads(2) # Set the number of cores. Must be executed before importing numpy&numba.\n",
    "import rbm, RBM_utils\n",
    "import DNA_utils, DNA_sequence_logo, DNA_plots_utils\n",
    "\n",
    "import random\n",
    "import pandas as pd\n",
    "import numpy as np\n",
    "from matplotlib import pyplot as plt\n",
    "\n",
    "%matplotlib inline"
   ]
  },
  {
   "cell_type": "code",
   "execution_count": 3,
   "id": "cba03507",
   "metadata": {},
   "outputs": [
    {
     "name": "stdout",
     "output_type": "stream",
     "text": [
      "Dataset #6 shape = (735974, 40)\n",
      "Dataset #8 shape = (719413, 40)\n"
     ]
    }
   ],
   "source": [
    "# load data\n",
    "path = '../data/'\n",
    "filename = 's100_6th.fasta'\n",
    "all_data_6, counts_6 = DNA_utils.load_DNA_MSA(path + filename, drop_duplicates=True, with_counts = True)\n",
    "n_tot_6 = all_data_6.shape[0]\n",
    "seq_len_6 = all_data_6.shape[1]\n",
    "print('Dataset #6 shape =', all_data_6.shape)\n",
    "\n",
    "filename = 's100_8th.fasta'\n",
    "all_data_8, counts_8 = DNA_utils.load_DNA_MSA(path + filename, drop_duplicates=True, with_counts = True)\n",
    "n_tot_8 = all_data_8.shape[0]\n",
    "seq_len_8 = all_data_8.shape[1]\n",
    "print('Dataset #8 shape =', all_data_8.shape)"
   ]
  },
  {
   "cell_type": "code",
   "execution_count": 4,
   "id": "04b7d4f7",
   "metadata": {},
   "outputs": [],
   "source": [
    "# split left and right data\n",
    "full_data_8 = np.repeat(all_data_8, counts_8, axis=0)\n",
    "seqs_8_l_2num, counts_8_l = np.unique(all_data_8[:, :20], return_counts=True, axis=0)\n",
    "all_data_8_l = pd.DataFrame({'sequence' : DNA_utils.num2seq(seqs_8_l_2num),\n",
    "                             'counts' : counts_8_l})\n",
    "\n",
    "seqs_8_r_2num, counts_8_r = np.unique(all_data_8[:, 20:], return_counts=True, axis=0)\n",
    "all_data_8_r = pd.DataFrame({'sequence' : DNA_utils.num2seq(seqs_8_r_2num),\n",
    "                             'counts' : counts_8_r})\n",
    "\n",
    "# put both rounds together\n",
    "all_data_8_lr = pd.concat([all_data_8_l, all_data_8_r])\n",
    "all_data_8_lr = all_data_8_lr.reset_index(drop=True)\n",
    "all_data_8_lr = all_data_8_lr.groupby(by=[\"sequence\"], as_index=False).sum()\n",
    "all_data_8_lr = all_data_8_lr.sort_values(by='counts', ascending=False).reset_index(drop=True)\n",
    "all_seq_8_lr = DNA_utils.seq2num(all_data_8_lr[\"sequence\"].to_list())\n",
    "counts_8_lr = all_data_8_lr['counts'].to_numpy()"
   ]
  },
  {
   "cell_type": "markdown",
   "id": "1a40036a",
   "metadata": {},
   "source": [
    "# RBM-D6 re-training"
   ]
  },
  {
   "cell_type": "code",
   "execution_count": 5,
   "id": "fca013fb",
   "metadata": {},
   "outputs": [],
   "source": [
    "# prepare training and test set\n",
    "permutation = np.random.permutation(n_tot_6)\n",
    "rbm_d6_dataset = all_data_6[permutation]\n",
    "test_len = rbm_d6_dataset.shape[0] // 10\n",
    "train_data = rbm_d6_dataset[test_len:]\n",
    "test_data = rbm_d6_dataset[:test_len]"
   ]
  },
  {
   "cell_type": "code",
   "execution_count": 6,
   "id": "ddf47d83",
   "metadata": {},
   "outputs": [
    {
     "name": "stdout",
     "output_type": "stream",
     "text": [
      "Using  15  epochs.\n",
      "Starting epoch 1\n",
      "Starting epoch 2\n",
      "Starting epoch 3\n",
      "Starting epoch 4\n",
      "Starting epoch 5\n",
      "Starting epoch 6\n",
      "Starting epoch 7\n",
      "Starting epoch 8\n",
      "Starting epoch 9\n",
      "Starting epoch 10\n",
      "Starting epoch 11\n",
      "Starting epoch 12\n",
      "Starting epoch 13\n",
      "Starting epoch 14\n",
      "Starting epoch 15\n"
     ]
    },
    {
     "data": {
      "text/plain": [
       "{}"
      ]
     },
     "execution_count": 6,
     "metadata": {},
     "output_type": "execute_result"
    }
   ],
   "source": [
    "# training\n",
    "n_v = train_data.shape[1] # Number of visible units; = # sites in alignment.\n",
    "n_h = 90\n",
    "nmc = 10 # Number of Monte Carlo steps between each update.\n",
    "lib = 1e-2 # L1b regularization. Default : 0.\n",
    "visible = 'Potts' # Nature of visible units potential. Here, Potts states.\n",
    "n_cv = 4\n",
    "hidden = 'dReLU' # Nature of hidden units potential. Here, dReLU potential.\n",
    "train_len = train_data.shape[0]\n",
    "test_len = test_data.shape[0]\n",
    "RBM_D6 = rbm.RBM(visible = visible,hidden = hidden, n_v = n_v, n_h = n_h, n_cv = n_cv)\n",
    "batch_size = 500 # Size of mini-batches (and number of Markov chains used).\n",
    "n_updates = int(2e4)\n",
    "n_iter = (n_updates // (train_data.shape[0] // batch_size))\n",
    "print('Using ', n_iter, ' epochs.')\n",
    "\n",
    "RBM_D6.fit(train_data, batch_size = batch_size, n_iter = n_iter, l1b = lib, N_MC = nmc, verbose = 0, vverbose = 1)"
   ]
  },
  {
   "cell_type": "code",
   "execution_count": 10,
   "id": "cdc9fa6e",
   "metadata": {},
   "outputs": [
    {
     "data": {
      "text/plain": [
       "''"
      ]
     },
     "execution_count": 10,
     "metadata": {},
     "output_type": "execute_result"
    },
    {
     "data": {
      "image/png": "[encoded data removed]",
      "text/plain": [
       "<Figure size 936x504 with 1 Axes>"
      ]
     },
     "metadata": {
      "needs_background": "light"
     },
     "output_type": "display_data"
    }
   ],
   "source": [
    "# check results on test set and on a set of random sequences\n",
    "rand_data = np.random.randint(low=0, high=3, size=test_data.shape, dtype=np.int16)\n",
    "\n",
    "fig = plt.figure(figsize=(13, 7), constrained_layout=False)\n",
    "ax = fig.add_subplot()\n",
    "ax.hist(RBM_D6.likelihood(train_data), bins=50, density=True, histtype='step', lw=2, fill=False, label=\"Training set\")\n",
    "ax.hist(RBM_D6.likelihood(test_data), bins=50, density=True, histtype='step', lw=3, fill=False, label=\"Test set\")\n",
    "ax.hist(RBM_D6.likelihood(rand_data), bins=50, density=True, histtype='step', lw=2, fill=False, label=\"Random data\")\n",
    "\n",
    "ax.legend(fontsize=18, loc=1)\n",
    "ax.set_xlabel(\"Log-likelihood\", fontsize=18)\n",
    ";"
   ]
  },
  {
   "cell_type": "code",
   "execution_count": 11,
   "id": "3419ca9f",
   "metadata": {},
   "outputs": [],
   "source": [
    "# save RBM\n",
    "out_path = '../RBM_retrained/'\n",
    "if not os.path.isdir(out_path): # check if folder exists\n",
    "    os.makedirs(out_path)\n",
    "    \n",
    "file_name = 'RBM_D6.data'\n",
    "RBM_utils.saveRBM(out_path + file_name, RBM_D6)"
   ]
  },
  {
   "cell_type": "markdown",
   "id": "3eb1d02e",
   "metadata": {},
   "source": [
    "# RBM-D8 re-training"
   ]
  },
  {
   "cell_type": "code",
   "execution_count": 12,
   "id": "63af2afd",
   "metadata": {},
   "outputs": [],
   "source": [
    "# prepare training and test set\n",
    "permutation = np.random.permutation(n_tot_8)\n",
    "rbm_d8_dataset = all_data_8[permutation]\n",
    "test_len = rbm_d8_dataset.shape[0] // 10\n",
    "train_data = rbm_d8_dataset[test_len:]\n",
    "test_data = rbm_d8_dataset[:test_len]"
   ]
  },
  {
   "cell_type": "code",
   "execution_count": 13,
   "id": "47dc58c0",
   "metadata": {
    "scrolled": true
   },
   "outputs": [
    {
     "name": "stdout",
     "output_type": "stream",
     "text": [
      "Using  24  epochs.\n",
      "Starting epoch 1\n",
      "Starting epoch 2\n",
      "Starting epoch 3\n",
      "Starting epoch 4\n",
      "Starting epoch 5\n",
      "Starting epoch 6\n",
      "Starting epoch 7\n",
      "Starting epoch 8\n",
      "Starting epoch 9\n",
      "Starting epoch 10\n",
      "Starting epoch 11\n",
      "Starting epoch 12\n",
      "Starting epoch 13\n",
      "Starting epoch 14\n",
      "Starting epoch 15\n",
      "Starting epoch 16\n",
      "Starting epoch 17\n",
      "Starting epoch 18\n",
      "Starting epoch 19\n",
      "Starting epoch 20\n",
      "Starting epoch 21\n",
      "Starting epoch 22\n",
      "Starting epoch 23\n",
      "Starting epoch 24\n"
     ]
    },
    {
     "data": {
      "text/plain": [
       "{}"
      ]
     },
     "execution_count": 13,
     "metadata": {},
     "output_type": "execute_result"
    }
   ],
   "source": [
    "# training\n",
    "n_v = train_data.shape[1]\n",
    "n_h = 120\n",
    "nmc = 2\n",
    "lib = 1e-2\n",
    "visible = 'Potts'\n",
    "n_cv = 4\n",
    "hidden = 'dReLU'\n",
    "train_len = train_data.shape[0]\n",
    "test_len = test_data.shape[0]\n",
    "RBM_D8 = rbm.RBM(visible = visible,hidden = hidden, n_v = n_v, n_h = n_h, n_cv = n_cv)\n",
    "batch_size = 800\n",
    "n_updates = int(2e4)\n",
    "n_iter = (n_updates // (train_data.shape[0] // batch_size))\n",
    "print('Using ', n_iter, ' epochs.')\n",
    "\n",
    "RBM_D8.fit(train_data, batch_size = batch_size, n_iter = n_iter, l1b = lib, N_MC = nmc, verbose = 0, vverbose = 1)"
   ]
  },
  {
   "cell_type": "code",
   "execution_count": 15,
   "id": "b3717511",
   "metadata": {},
   "outputs": [
    {
     "data": {
      "text/plain": [
       "''"
      ]
     },
     "execution_count": 15,
     "metadata": {},
     "output_type": "execute_result"
    },
    {
     "data": {
      "image/png": "[encoded data removed]",
      "text/plain": [
       "<Figure size 936x504 with 1 Axes>"
      ]
     },
     "metadata": {
      "needs_background": "light"
     },
     "output_type": "display_data"
    }
   ],
   "source": [
    "# check results on test set and on a set of random sequences\n",
    "rand_data = np.random.randint(low=0, high=3, size=test_data.shape, dtype=np.int16)\n",
    "\n",
    "fig = plt.figure(figsize=(13, 7), constrained_layout=False)\n",
    "ax = fig.add_subplot()\n",
    "ax.hist(RBM_D8.likelihood(train_data), bins=50, density=True, histtype='step', lw=2, fill=False, label=\"Training set\")\n",
    "ax.hist(RBM_D8.likelihood(test_data), bins=50, density=True, histtype='step', lw=3, fill=False, label=\"Test set\")\n",
    "ax.hist(RBM_D8.likelihood(rand_data), bins=50, density=True, histtype='step', lw=2, fill=False, label=\"Random data\")\n",
    "\n",
    "ax.legend(fontsize=18, loc=2)\n",
    "ax.set_xlabel(\"Log-likelihood\", fontsize=18)\n",
    ";"
   ]
  },
  {
   "cell_type": "code",
   "execution_count": 16,
   "id": "5e37078d",
   "metadata": {},
   "outputs": [],
   "source": [
    "# save RBM\n",
    "out_path = '../RBM_retrained/'\n",
    "if not os.path.isdir(out_path): # check if folder exists\n",
    "    os.makedirs(out_path)\n",
    "    \n",
    "file_name = 'RBM_D8.data'\n",
    "RBM_utils.saveRBM(out_path + file_name, RBM_D8)"
   ]
  },
  {
   "cell_type": "markdown",
   "id": "a4ef2b21",
   "metadata": {},
   "source": [
    "# RBM-S re-training"
   ]
  },
  {
   "cell_type": "code",
   "execution_count": 17,
   "id": "bfdc5ee1",
   "metadata": {},
   "outputs": [],
   "source": [
    "# prepare training and test set\n",
    "n_tot_8_lr = len(all_data_8_lr.sequence)\n",
    "permutation = np.random.permutation(n_tot_8_lr)\n",
    "rbm_s_dataset = all_seq_8_lr[permutation]\n",
    "test_len = rbm_s_dataset.shape[0] // 10\n",
    "train_data = rbm_s_dataset[test_len:]\n",
    "test_data = rbm_s_dataset[:test_len]"
   ]
  },
  {
   "cell_type": "code",
   "execution_count": 18,
   "id": "f69c273c",
   "metadata": {},
   "outputs": [
    {
     "name": "stdout",
     "output_type": "stream",
     "text": [
      "Using  29  epochs.\n",
      "Starting epoch 1\n",
      "Starting epoch 2\n",
      "Starting epoch 3\n",
      "Starting epoch 4\n",
      "Starting epoch 5\n",
      "Starting epoch 6\n",
      "Starting epoch 7\n",
      "Starting epoch 8\n",
      "Starting epoch 9\n",
      "Starting epoch 10\n",
      "Starting epoch 11\n",
      "Starting epoch 12\n",
      "Starting epoch 13\n",
      "Starting epoch 14\n",
      "Starting epoch 15\n",
      "Starting epoch 16\n",
      "Starting epoch 17\n",
      "Starting epoch 18\n",
      "Starting epoch 19\n",
      "Starting epoch 20\n",
      "Starting epoch 21\n",
      "Starting epoch 22\n",
      "Starting epoch 23\n",
      "Starting epoch 24\n",
      "Starting epoch 25\n",
      "Starting epoch 26\n",
      "Starting epoch 27\n",
      "Starting epoch 28\n",
      "Starting epoch 29\n"
     ]
    },
    {
     "data": {
      "text/plain": [
       "{}"
      ]
     },
     "execution_count": 18,
     "metadata": {},
     "output_type": "execute_result"
    }
   ],
   "source": [
    "# training\n",
    "n_v = train_data.shape[1]\n",
    "n_h = 70\n",
    "nmc = 4\n",
    "lib = 1e-2\n",
    "visible = 'Potts'\n",
    "n_cv = 4\n",
    "hidden = 'dReLU'\n",
    "train_len = train_data.shape[0]\n",
    "test_len = test_data.shape[0]\n",
    "RBM_S = rbm.RBM(visible = visible, hidden = hidden, n_v = n_v, n_h = n_h, n_cv = n_cv)\n",
    "batch_size = 500\n",
    "n_updates = int(2e4)\n",
    "n_iter = (n_updates // (train_data.shape[0] // batch_size))\n",
    "print('Using ', n_iter, ' epochs.')\n",
    "\n",
    "RBM_S.fit(train_data, batch_size = batch_size, n_iter = n_iter, l1b = lib, N_MC = nmc, verbose = 0, vverbose = 1)"
   ]
  },
  {
   "cell_type": "code",
   "execution_count": 19,
   "id": "ac5c339c",
   "metadata": {},
   "outputs": [
    {
     "name": "stdout",
     "output_type": "stream",
     "text": [
      "Mismatch dimensions (500, 70), [10, 70], reinitializating I\n",
      "Mismatch dimensions (500, 20, 4), [10, 20, 4], reinitializating I\n"
     ]
    },
    {
     "data": {
      "text/plain": [
       "''"
      ]
     },
     "execution_count": 19,
     "metadata": {},
     "output_type": "execute_result"
    },
    {
     "data": {
      "image/png": "[encoded data removed]",
      "text/plain": [
       "<Figure size 936x504 with 1 Axes>"
      ]
     },
     "metadata": {
      "needs_background": "light"
     },
     "output_type": "display_data"
    }
   ],
   "source": [
    "# check results on test set and on a set of random sequences\n",
    "rand_data = np.random.randint(low=0, high=3, size=test_data.shape, dtype=np.int16)\n",
    "\n",
    "fig = plt.figure(figsize=(13, 7), constrained_layout=False)\n",
    "ax = fig.add_subplot()\n",
    "ax.hist(RBM_S.likelihood(train_data), bins=50, density=True, histtype='step', lw=2, fill=False, label=\"Training set\")\n",
    "ax.hist(RBM_S.likelihood(test_data), bins=50, density=True, histtype='step', lw=3, fill=False, label=\"Test set\")\n",
    "ax.hist(RBM_S.likelihood(rand_data), bins=50, density=True, histtype='step', lw=2, fill=False, label=\"Random data\")\n",
    "\n",
    "ax.legend(fontsize=18, loc=2)\n",
    "ax.set_xlabel(\"Log-likelihood\", fontsize=18)\n",
    ";"
   ]
  },
  {
   "cell_type": "code",
   "execution_count": 20,
   "id": "267fad02",
   "metadata": {},
   "outputs": [],
   "source": [
    "# save RBM\n",
    "out_path = '../RBM_retrained/'\n",
    "if not os.path.isdir(out_path): # check if folder exists\n",
    "    os.makedirs(out_path)\n",
    "    \n",
    "file_name = 'RBM_S.data'\n",
    "RBM_utils.saveRBM(out_path + file_name, RBM_S)"
   ]
  },
  {
   "cell_type": "markdown",
   "id": "66872f62",
   "metadata": {},
   "source": [
    "# RBM-SC re-training"
   ]
  },
  {
   "cell_type": "code",
   "execution_count": 7,
   "id": "267b1156",
   "metadata": {},
   "outputs": [],
   "source": [
    "# create dataset through resampling (using tower sampling)\n",
    "dataset_size = 725431 # same size of the full (40 nts) dataset\n",
    "# i) compute probability of each sequence\n",
    "probs = counts_8_lr\n",
    "seqs = all_seq_8_lr\n",
    "# ii) now divide the interval (0,1) in parts of the right lenght\n",
    "tot_probs = np.sum(probs)\n",
    "probs2 = np.array(probs/tot_probs, dtype = np.float64)\n",
    "tower = np.zeros(len(probs2), dtype = np.float64)\n",
    "t = 0\n",
    "for i, pr in enumerate(probs2):\n",
    "    t = t + pr\n",
    "    tower[i] = t\n",
    "# now sample\n",
    "resampled_seq2num = []\n",
    "for i in range(dataset_size):\n",
    "    x = random.random()\n",
    "    idx = tower.searchsorted(x)\n",
    "    resampled_seq2num.append(seqs[idx])\n",
    "resampled_seq2num = np.array(resampled_seq2num)"
   ]
  },
  {
   "cell_type": "code",
   "execution_count": 8,
   "id": "db759f96",
   "metadata": {},
   "outputs": [],
   "source": [
    "# prepare training and test set\n",
    "test_len = resampled_seq2num.shape[0] // 10\n",
    "train_data = resampled_seq2num[test_len:]\n",
    "test_data = resampled_seq2num[:test_len]"
   ]
  },
  {
   "cell_type": "code",
   "execution_count": 9,
   "id": "d10ac800",
   "metadata": {
    "scrolled": true
   },
   "outputs": [
    {
     "name": "stdout",
     "output_type": "stream",
     "text": [
      "Using  30  epochs.\n",
      "Starting epoch 1\n",
      "Starting epoch 2\n",
      "Starting epoch 3\n",
      "Starting epoch 4\n",
      "Starting epoch 5\n",
      "Starting epoch 6\n",
      "Starting epoch 7\n",
      "Starting epoch 8\n",
      "Starting epoch 9\n",
      "Starting epoch 10\n",
      "Starting epoch 11\n",
      "Starting epoch 12\n",
      "Starting epoch 13\n",
      "Starting epoch 14\n",
      "Starting epoch 15\n",
      "Starting epoch 16\n",
      "Starting epoch 17\n",
      "Starting epoch 18\n",
      "Starting epoch 19\n",
      "Starting epoch 20\n",
      "Starting epoch 21\n",
      "Starting epoch 22\n",
      "Starting epoch 23\n",
      "Starting epoch 24\n",
      "Starting epoch 25\n",
      "Starting epoch 26\n",
      "Starting epoch 27\n",
      "Starting epoch 28\n",
      "Starting epoch 29\n",
      "Starting epoch 30\n"
     ]
    },
    {
     "data": {
      "text/plain": [
       "{}"
      ]
     },
     "execution_count": 9,
     "metadata": {},
     "output_type": "execute_result"
    }
   ],
   "source": [
    "# training\n",
    "n_v = train_data.shape[1]\n",
    "n_h = 80\n",
    "nmc = 2\n",
    "lib = 1e-2\n",
    "visible = 'Potts'\n",
    "n_cv = 4\n",
    "hidden = 'dReLU'\n",
    "train_len = train_data.shape[0]\n",
    "test_len = test_data.shape[0]\n",
    "RBM_SC = rbm.RBM(visible = visible,hidden = hidden, n_v = n_v, n_h = n_h, n_cv = n_cv)\n",
    "batch_size = 1000\n",
    "n_updates = int(2e4)\n",
    "n_iter = (n_updates // (train_data.shape[0] // batch_size))\n",
    "print('Using ', n_iter, ' epochs.')\n",
    "\n",
    "RBM_SC.fit(train_data, batch_size = batch_size, n_iter = n_iter, l1b = lib, N_MC = nmc, verbose = 0, vverbose = 1)"
   ]
  },
  {
   "cell_type": "code",
   "execution_count": 10,
   "id": "3a822d43",
   "metadata": {},
   "outputs": [
    {
     "name": "stdout",
     "output_type": "stream",
     "text": [
      "Mismatch dimensions (1000, 80), [10, 80], reinitializating I\n",
      "Mismatch dimensions (1000, 20, 4), [10, 20, 4], reinitializating I\n"
     ]
    },
    {
     "data": {
      "text/plain": [
       "''"
      ]
     },
     "execution_count": 10,
     "metadata": {},
     "output_type": "execute_result"
    },
    {
     "data": {
      "image/png": "[encoded data removed]",
      "text/plain": [
       "<Figure size 936x504 with 1 Axes>"
      ]
     },
     "metadata": {
      "needs_background": "light"
     },
     "output_type": "display_data"
    }
   ],
   "source": [
    "# check results on test set and on a set of random sequences\n",
    "rand_data = np.random.randint(low=0, high=3, size=test_data.shape, dtype=np.int16)\n",
    "\n",
    "fig = plt.figure(figsize=(13, 7), constrained_layout=False)\n",
    "ax = fig.add_subplot()\n",
    "ax.hist(RBM_SC.likelihood(train_data), bins=50, density=True, histtype='step', lw=2, fill=False, label=\"Training set\")\n",
    "ax.hist(RBM_SC.likelihood(test_data), bins=50, density=True, histtype='step', lw=3, fill=False, label=\"Test set\")\n",
    "ax.hist(RBM_SC.likelihood(rand_data), bins=50, density=True, histtype='step', lw=2, fill=False, label=\"Random data\")\n",
    "\n",
    "ax.legend(fontsize=18, loc=2)\n",
    "ax.set_xlabel(\"Log-likelihood\", fontsize=18)\n",
    ";"
   ]
  },
  {
   "cell_type": "code",
   "execution_count": 27,
   "id": "90ac2fbc",
   "metadata": {},
   "outputs": [],
   "source": [
    "# save RBM\n",
    "out_path = '../RBM_retrained/'\n",
    "if not os.path.isdir(out_path): # check if folder exists\n",
    "    os.makedirs(out_path)\n",
    "    \n",
    "file_name = 'RBM_SC.data'\n",
    "RBM_utils.saveRBM(out_path + file_name, RBM_SC)"
   ]
  },
  {
   "cell_type": "code",
   "execution_count": null,
   "id": "9158c4ba",
   "metadata": {},
   "outputs": [],
   "source": []
  },
  {
   "cell_type": "code",
   "execution_count": null,
   "id": "236cc4ec",
   "metadata": {},
   "outputs": [],
   "source": []
  },
  {
   "cell_type": "markdown",
   "id": "d07450fb",
   "metadata": {},
   "source": [
    "# RBM-S - check the effect of different hyper-parameters"
   ]
  },
  {
   "cell_type": "code",
   "execution_count": 5,
   "id": "2f6b5952",
   "metadata": {},
   "outputs": [],
   "source": [
    "# prepare training and test set\n",
    "n_tot_8_lr = len(all_data_8_lr.sequence)\n",
    "permutation = np.random.permutation(n_tot_8_lr)\n",
    "rbm_s_dataset = all_seq_8_lr[permutation]\n",
    "test_len = rbm_s_dataset.shape[0] // 10\n",
    "train_data = rbm_s_dataset[test_len:]\n",
    "test_data = rbm_s_dataset[:test_len]"
   ]
  },
  {
   "cell_type": "code",
   "execution_count": 7,
   "id": "fa88b574",
   "metadata": {},
   "outputs": [
    {
     "name": "stdout",
     "output_type": "stream",
     "text": [
      "Now training RBM with 20 hidden units and 0 weight regularization... done!\n",
      "Now training RBM with 20 hidden units and 0.1 weight regularization... done!\n",
      "Now training RBM with 20 hidden units and 0.01 weight regularization... done!\n",
      "Now training RBM with 20 hidden units and 0.001 weight regularization... done!\n",
      "Now training RBM with 40 hidden units and 0 weight regularization... done!\n",
      "Now training RBM with 40 hidden units and 0.1 weight regularization... done!\n",
      "Now training RBM with 40 hidden units and 0.01 weight regularization... done!\n",
      "Now training RBM with 40 hidden units and 0.001 weight regularization... done!\n",
      "Now training RBM with 70 hidden units and 0 weight regularization... done!\n",
      "Now training RBM with 70 hidden units and 0.1 weight regularization... done!\n",
      "Now training RBM with 70 hidden units and 0.01 weight regularization... done!\n",
      "Now training RBM with 70 hidden units and 0.001 weight regularization... done!\n",
      "Now training RBM with 100 hidden units and 0 weight regularization... done!\n",
      "Now training RBM with 100 hidden units and 0.1 weight regularization... done!\n",
      "Now training RBM with 100 hidden units and 0.01 weight regularization... done!\n",
      "Now training RBM with 100 hidden units and 0.001 weight regularization... done!\n"
     ]
    }
   ],
   "source": [
    "# train 16 RBMs with different number of hidden units or weight regularizations (this takes time!)\n",
    "n_v = train_data.shape[1]\n",
    "n_hs = [20, 40, 70, 100]\n",
    "libs = [0, 1e-1, 1e-2, 1e-3]\n",
    "visible = 'Potts'\n",
    "n_cv = 4\n",
    "nmc = 4\n",
    "hidden = 'dReLU'\n",
    "train_len = train_data.shape[0]\n",
    "test_len = test_data.shape[0]\n",
    "batch_size = 500\n",
    "n_updates = int(2e4)\n",
    "n_iter = (n_updates // (train_data.shape[0] // batch_size))\n",
    "\n",
    "checkRBM_S_hyperpars = []\n",
    "checkRBM_S_RBMs = []\n",
    "for n_h in n_hs:\n",
    "    for lib in libs:\n",
    "        print(\"Now training RBM with\", n_h, \n",
    "              \"hidden units and\", lib, \"weight regularization...\", end=' ')\n",
    "        t_RBM_S = rbm.RBM(visible = visible, hidden = hidden, n_v = n_v, n_h = n_h, n_cv = n_cv)\n",
    "        t_RBM_S.fit(train_data, batch_size = batch_size, n_iter = n_iter, l1b = lib, N_MC = nmc, verbose = 0, vverbose = 0)\n",
    "        checkRBM_S_hyperpars.append([n_h, lib])\n",
    "        checkRBM_S_RBMs.append(t_RBM_S)\n",
    "        print(\"done!\")\n",
    "checkRBM_S_hyperpars = np.array(checkRBM_S_hyperpars)"
   ]
  },
  {
   "cell_type": "code",
   "execution_count": 14,
   "id": "32bca34a",
   "metadata": {
    "scrolled": true
   },
   "outputs": [
    {
     "name": "stdout",
     "output_type": "stream",
     "text": [
      "Mismatch dimensions (500, 20), [10, 20], reinitializating I\n",
      "Mismatch dimensions (500, 20, 4), [10, 20, 4], reinitializating I\n",
      "Mismatch dimensions (500, 20), [10, 20], reinitializating I\n",
      "Mismatch dimensions (500, 20, 4), [10, 20, 4], reinitializating I\n",
      "Mismatch dimensions (500, 20), [10, 20], reinitializating I\n",
      "Mismatch dimensions (500, 20, 4), [10, 20, 4], reinitializating I\n",
      "Mismatch dimensions (500, 20), [10, 20], reinitializating I\n",
      "Mismatch dimensions (500, 20, 4), [10, 20, 4], reinitializating I\n",
      "Mismatch dimensions (500, 40), [10, 40], reinitializating I\n",
      "Mismatch dimensions (500, 20, 4), [10, 20, 4], reinitializating I\n",
      "Mismatch dimensions (500, 40), [10, 40], reinitializating I\n",
      "Mismatch dimensions (500, 20, 4), [10, 20, 4], reinitializating I\n",
      "Mismatch dimensions (500, 40), [10, 40], reinitializating I\n",
      "Mismatch dimensions (500, 20, 4), [10, 20, 4], reinitializating I\n",
      "Mismatch dimensions (500, 40), [10, 40], reinitializating I\n",
      "Mismatch dimensions (500, 20, 4), [10, 20, 4], reinitializating I\n",
      "Mismatch dimensions (500, 70), [10, 70], reinitializating I\n",
      "Mismatch dimensions (500, 20, 4), [10, 20, 4], reinitializating I\n",
      "Mismatch dimensions (500, 70), [10, 70], reinitializating I\n",
      "Mismatch dimensions (500, 20, 4), [10, 20, 4], reinitializating I\n",
      "Mismatch dimensions (500, 70), [10, 70], reinitializating I\n",
      "Mismatch dimensions (500, 20, 4), [10, 20, 4], reinitializating I\n",
      "Mismatch dimensions (500, 70), [10, 70], reinitializating I\n",
      "Mismatch dimensions (500, 20, 4), [10, 20, 4], reinitializating I\n",
      "Mismatch dimensions (500, 100), [10, 100], reinitializating I\n",
      "Mismatch dimensions (500, 20, 4), [10, 20, 4], reinitializating I\n",
      "Mismatch dimensions (500, 100), [10, 100], reinitializating I\n",
      "Mismatch dimensions (500, 20, 4), [10, 20, 4], reinitializating I\n",
      "Mismatch dimensions (500, 100), [10, 100], reinitializating I\n",
      "Mismatch dimensions (500, 20, 4), [10, 20, 4], reinitializating I\n",
      "Mismatch dimensions (500, 100), [10, 100], reinitializating I\n",
      "Mismatch dimensions (500, 20, 4), [10, 20, 4], reinitializating I\n"
     ]
    }
   ],
   "source": [
    "# compute loglikelihoods\n",
    "\n",
    "rand_data = np.random.randint(low=0, high=3, size=test_data.shape, dtype=np.int16)\n",
    "\n",
    "checkRBM_rand_aveloglik = []\n",
    "checkRBM_train_aveloglik = []\n",
    "checkRBM_test_aveloglik = []\n",
    "\n",
    "\n",
    "for r in checkRBM_S_RBMs:\n",
    "    t_ll_ra = r.likelihood(rand_data)\n",
    "    t_ll_tr = r.likelihood(train_data)\n",
    "    t_ll_te = r.likelihood(test_data)\n",
    "    checkRBM_rand_aveloglik.append(np.mean(t_ll_ra))\n",
    "    checkRBM_train_aveloglik.append(np.mean(t_ll_tr))\n",
    "    checkRBM_test_aveloglik.append(np.mean(t_ll_te))\n",
    "    \n",
    "checkRBM_rand_aveloglik = np.array(checkRBM_rand_aveloglik)\n",
    "checkRBM_train_aveloglik = np.array(checkRBM_train_aveloglik)\n",
    "checkRBM_test_aveloglik = np.array(checkRBM_test_aveloglik)"
   ]
  },
  {
   "cell_type": "code",
   "execution_count": 82,
   "id": "d82ce097",
   "metadata": {},
   "outputs": [
    {
     "data": {
      "image/png": "[encoded data removed]",
      "text/plain": [
       "<Figure size 936x936 with 3 Axes>"
      ]
     },
     "metadata": {
      "needs_background": "light"
     },
     "output_type": "display_data"
    }
   ],
   "source": [
    "# plot\n",
    "fig = plt.figure(figsize=(13,13))\n",
    "gs = fig.add_gridspec(ncols=1, nrows=3, wspace=0., hspace=0.)\n",
    "# train\n",
    "y1 = checkRBM_train_aveloglik[checkRBM_S_hyperpars[:, 0] == 20]\n",
    "y2 = checkRBM_train_aveloglik[checkRBM_S_hyperpars[:, 0] == 40]\n",
    "y3 = checkRBM_train_aveloglik[checkRBM_S_hyperpars[:, 0] == 70]\n",
    "y4 = checkRBM_train_aveloglik[checkRBM_S_hyperpars[:, 0] == 100]\n",
    "ax = fig.add_subplot(gs[0,0])\n",
    "ax.plot(y1, linewidth = 0, \n",
    "         marker = 'o', markersize = 10, markeredgecolor='k', markerfacecolor=\"C0\")\n",
    "ax.plot(y2, linewidth = 0, \n",
    "         marker = 'o', markersize = 10, markeredgecolor='k', markerfacecolor=\"C1\")\n",
    "ax.plot(y3, linewidth = 0, \n",
    "         marker = 'o', markersize = 10, markeredgecolor='k', markerfacecolor=\"C2\")\n",
    "ax.plot(y4, linewidth = 0, \n",
    "         marker = 'o', markersize = 10, markeredgecolor='k', markerfacecolor=\"C3\")\n",
    "ax.tick_params(axis='both', direction='in', length=6, width=2, colors='k')\n",
    "ax.tick_params(axis='both', labelsize=18)\n",
    "ax.set_yticks([-20, -19.5])\n",
    "ax.set_ylim((-20.5, -19))\n",
    "\n",
    "### legend\n",
    "from matplotlib.patches import Patch\n",
    "from matplotlib.lines import Line2D\n",
    "legend_elements = [Line2D([0], [0], marker='o', markersize=15, markeredgecolor='k', \n",
    "                          color='gray', lw=0, label='Training set'),\n",
    "                   Line2D([0], [0], marker='d', markersize=15, markeredgecolor='k', \n",
    "                          color='gray', lw=0, label='Test set'),\n",
    "                   Line2D([0], [0], marker='s', markersize=15, markeredgecolor='k', \n",
    "                          color='gray', lw=0, label='Random data set'),\n",
    "                   Patch(facecolor='C0', edgecolor='k', label='20 HUs'),\n",
    "                   Patch(facecolor='C1', edgecolor='k', label='40 HUs'),\n",
    "                   Patch(facecolor='C2', edgecolor='k', label='70 HUs'),\n",
    "                   Patch(facecolor='C3', edgecolor='k', label='100 HUs')\n",
    "                  ]\n",
    "ax.legend(handles=legend_elements, fontsize=18, loc=(0.07, 0.45), framealpha=1, ncol=2)\n",
    "###\n",
    "\n",
    "# test\n",
    "ax = fig.add_subplot(gs[1,0])\n",
    "y1 = checkRBM_test_aveloglik[checkRBM_S_hyperpars[:, 0] == 20]\n",
    "y2 = checkRBM_test_aveloglik[checkRBM_S_hyperpars[:, 0] == 40]\n",
    "y3 = checkRBM_test_aveloglik[checkRBM_S_hyperpars[:, 0] == 70]\n",
    "y4 = checkRBM_test_aveloglik[checkRBM_S_hyperpars[:, 0] == 100]\n",
    "ax.plot(y1, linewidth = 0, \n",
    "         marker = 'd', markersize = 10, markeredgecolor='k', markerfacecolor=\"C0\")\n",
    "ax.plot(y2, linewidth = 0, \n",
    "         marker = 'd', markersize = 10, markeredgecolor='k', markerfacecolor=\"C1\")\n",
    "ax.plot(y3, linewidth = 0, \n",
    "         marker = 'd', markersize = 10, markeredgecolor='k', markerfacecolor=\"C2\")\n",
    "ax.plot(y4, linewidth = 0, \n",
    "         marker = 'd', markersize = 10, markeredgecolor='k', markerfacecolor=\"C3\")\n",
    "ax.tick_params(axis='both', direction='in', length=6, width=2, colors='k')\n",
    "ax.set_ylabel(\"Log-likelihood\", fontsize=20)\n",
    "ax.tick_params(axis='both', labelsize=18)\n",
    "ax.set_yticks([-20, -19.5])\n",
    "ax.set_ylim((-20.5, -19))\n",
    "\n",
    "# random\n",
    "ax = fig.add_subplot(gs[2,0])\n",
    "y1 = checkRBM_rand_aveloglik[checkRBM_S_hyperpars[:, 0] == 20]\n",
    "y2 = checkRBM_rand_aveloglik[checkRBM_S_hyperpars[:, 0] == 40]\n",
    "y3 = checkRBM_rand_aveloglik[checkRBM_S_hyperpars[:, 0] == 70]\n",
    "y4 = checkRBM_rand_aveloglik[checkRBM_S_hyperpars[:, 0] == 100]\n",
    "ax.plot(y1, linewidth = 0, \n",
    "         marker = 's', markersize = 10, markeredgecolor='k', markerfacecolor=\"C0\")\n",
    "ax.plot(y2, linewidth = 0, \n",
    "         marker = 's', markersize = 10, markeredgecolor='k', markerfacecolor=\"C1\")\n",
    "ax.plot(y3, linewidth = 0, \n",
    "         marker = 's', markersize = 10, markeredgecolor='k', markerfacecolor=\"C2\")\n",
    "ax.plot(y4, linewidth = 0, \n",
    "         marker = 's', markersize = 10, markeredgecolor='k', markerfacecolor=\"C3\")\n",
    "ax.tick_params(axis='both', direction='in', length=6, width=2, colors='k')\n",
    "ax.set_xlabel(\"Weight regularization strength\", fontsize=20)\n",
    "ax.tick_params(axis='both', labelsize=18)\n",
    "ax.set_ylim((-29.2, -27.7))\n",
    "ax.set_yticks([-29, -28.5, -28])\n",
    "ax.set_xticks([0,1,2,3])\n",
    "ax.set_xticklabels([\"0\", \"0.1\", \"0.001\", \"0.0001\"])"
   ]
  },
  {
   "cell_type": "code",
   "execution_count": null,
   "id": "e6f86322",
   "metadata": {},
   "outputs": [],
   "source": []
  },
  {
   "cell_type": "code",
   "execution_count": null,
   "id": "a8175416",
   "metadata": {},
   "outputs": [],
   "source": []
  },
  {
   "cell_type": "code",
   "execution_count": null,
   "id": "61ef351c",
   "metadata": {},
   "outputs": [],
   "source": []
  },
  {
   "cell_type": "code",
   "execution_count": null,
   "id": "74a8537c",
   "metadata": {},
   "outputs": [],
   "source": []
  },
  {
   "cell_type": "code",
   "execution_count": null,
   "id": "e26e961d",
   "metadata": {},
   "outputs": [],
   "source": []
  }
 ],
 "metadata": {
  "kernelspec": {
   "display_name": "Python 3 (ipykernel)",
   "language": "python",
   "name": "python3"
  },
  "language_info": {
   "codemirror_mode": {
    "name": "ipython",
    "version": 3
   },
   "file_extension": ".py",
   "mimetype": "text/x-python",
   "name": "python",
   "nbconvert_exporter": "python",
   "pygments_lexer": "ipython3",
   "version": "3.8.8"
  }
 },
 "nbformat": 4,
 "nbformat_minor": 5
}
