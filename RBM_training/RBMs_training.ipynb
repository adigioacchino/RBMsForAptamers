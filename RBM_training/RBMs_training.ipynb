{
 "cells": [
  {
   "cell_type": "code",
   "execution_count": 1,
   "id": "9cc978a0",
   "metadata": {},
   "outputs": [],
   "source": [
    "# this clones the PGM repository in the ../PGM folder if it does not exists\n",
    "# please modify this line as needed if you want to have the PMG repository elsewhere\n",
    "import os, sys\n",
    "pgm_path = '../PGM/'\n",
    "if not os.path.isdir(pgm_path): # check if folder exists\n",
    "    from git import Repo\n",
    "    Repo.clone_from(\"https://github.com/jertubiana/PGM.git\", pgm_path)\n",
    "sys.path.append(pgm_path + 'source/')\n",
    "sys.path.append(pgm_path + 'utilities/')\n",
    "sys.path.append('../DNA_utils/')"
   ]
  },
  {
   "cell_type": "code",
   "execution_count": 2,
   "id": "560ee50d",
   "metadata": {},
   "outputs": [
    {
     "name": "stderr",
     "output_type": "stream",
     "text": [
      "../PGM/source\\numba_utilities.py:1124: NumbaPerformanceWarning: \u001b[1m\u001b[1m\u001b[1mnp.dot() is faster on contiguous arrays, called on (array(float32, 2d, F), array(float32, 2d, A))\u001b[0m\u001b[0m\u001b[0m\n",
      "  dmean_v_dw = np.dot(s1.T, V)\n",
      "../PGM/source\\numba_utilities.py:961: NumbaPerformanceWarning: \u001b[1m\u001b[1m\u001b[1mnp.dot() is faster on contiguous arrays, called on (array(float32, 1d, A), array(float32, 2d, A))\u001b[0m\u001b[0m\u001b[0m\n",
      "  mean_V = np.dot(weights, V) / sum_weights\n"
     ]
    }
   ],
   "source": [
    "# imports\n",
    "from common_imports import set_num_threads\n",
    "set_num_threads(2) # Set the number of cores. Must be executed before importing numpy&numba.\n",
    "import rbm, RBM_utils\n",
    "import DNA_utils, DNA_sequence_logo, DNA_plots_utils\n",
    "\n",
    "import random\n",
    "import pandas as pd\n",
    "import numpy as np\n",
    "from matplotlib import pyplot as plt\n",
    "\n",
    "%matplotlib inline"
   ]
  },
  {
   "cell_type": "code",
   "execution_count": 3,
   "id": "cba03507",
   "metadata": {},
   "outputs": [],
   "source": [
    "# load data\n",
    "path = '../data/'\n",
    "filename = 's100_6th.fasta'\n",
    "all_data_6, counts_6 = DNA_utils.load_DNA_MSA(path + filename, drop_duplicates=True, with_counts = True)\n",
    "\n",
    "filename = 's100_8th.fasta'\n",
    "all_data_8, counts_8 = DNA_utils.load_DNA_MSA(path + filename, drop_duplicates=True, with_counts = True)\n",
    "\n",
    "# split left and right data at round 8\n",
    "full_data_8 = np.repeat(all_data_8, counts_8, axis=0)\n",
    "seqs_8_l_2num, counts_8_l = np.unique(all_data_8[:, :20], return_counts=True, axis=0)\n",
    "all_data_8_l = pd.DataFrame({'sequence' : DNA_utils.num2seq(seqs_8_l_2num),\n",
    "                             'counts' : counts_8_l})\n",
    "seqs_8_r_2num, counts_8_r = np.unique(all_data_8[:, 20:], return_counts=True, axis=0)\n",
    "all_data_8_r = pd.DataFrame({'sequence' : DNA_utils.num2seq(seqs_8_r_2num),\n",
    "                             'counts' : counts_8_r})\n",
    "# put both rounds together\n",
    "all_data_8_lr = pd.concat([all_data_8_l, all_data_8_r])\n",
    "all_data_8_lr = all_data_8_lr.reset_index(drop=True)\n",
    "all_data_8_lr = all_data_8_lr.groupby(by=[\"sequence\"], as_index=False).sum()\n",
    "all_data_8_lr = all_data_8_lr.sort_values(by='counts', ascending=False).reset_index(drop=True)\n",
    "all_seq_8_lr = DNA_utils.seq2num(all_data_8_lr[\"sequence\"].to_list())\n",
    "counts_8_lr = all_data_8_lr['counts'].to_numpy()"
   ]
  },
  {
   "cell_type": "markdown",
   "id": "1a40036a",
   "metadata": {},
   "source": [
    "# RBM-DC6 re-training"
   ]
  },
  {
   "cell_type": "code",
   "execution_count": 9,
   "id": "104d5bb6",
   "metadata": {},
   "outputs": [],
   "source": [
    "# fix training and validation set\n",
    "perm = np.arange(all_data_6.shape[0])\n",
    "np.random.shuffle(perm)\n",
    "\n",
    "len_validation = all_data_6.shape[0] // 10\n",
    "training_set_s2n = all_data_6[perm][:-len_validation]\n",
    "training_set_counts = counts_6[perm][:-len_validation]\n",
    "validation_set_s2n = all_data_6[perm][-len_validation:]\n",
    "validation_set_counts = counts_6[perm][-len_validation:]"
   ]
  },
  {
   "cell_type": "code",
   "execution_count": 10,
   "id": "9d1e7219",
   "metadata": {},
   "outputs": [],
   "source": [
    "#resample training set with counts\n",
    "dataset_size = training_set_s2n.shape[0] # same size of the training dataset used for RBM-SU\n",
    "probs = training_set_counts\n",
    "seqs = training_set_s2n\n",
    "tot_probs = np.sum(probs)\n",
    "probs2 = np.array(probs/tot_probs, dtype = np.float64)\n",
    "tower = np.zeros(len(probs2), dtype = np.float64)\n",
    "t = 0\n",
    "for i, pr in enumerate(probs2):\n",
    "    t = t + pr\n",
    "    tower[i] = t\n",
    "resampled_seq2num = []\n",
    "for i in range(dataset_size):\n",
    "    x = np.random.random()\n",
    "    idx = tower.searchsorted(x)\n",
    "    resampled_seq2num.append(seqs[idx])\n",
    "resampled_seq2num = np.array(resampled_seq2num)\n",
    "train_data_C = np.copy(resampled_seq2num)"
   ]
  },
  {
   "cell_type": "code",
   "execution_count": 11,
   "id": "c591aa32",
   "metadata": {},
   "outputs": [
    {
     "name": "stdout",
     "output_type": "stream",
     "text": [
      "Using  15  epochs.\n",
      "Starting epoch 1\n",
      "Starting epoch 2\n",
      "Starting epoch 3\n",
      "Starting epoch 4\n",
      "Starting epoch 5\n",
      "Starting epoch 6\n",
      "Starting epoch 7\n",
      "Starting epoch 8\n",
      "Starting epoch 9\n",
      "Starting epoch 10\n",
      "Starting epoch 11\n",
      "Starting epoch 12\n",
      "Starting epoch 13\n",
      "Starting epoch 14\n",
      "Starting epoch 15\n"
     ]
    },
    {
     "data": {
      "text/plain": [
       "{}"
      ]
     },
     "execution_count": 11,
     "metadata": {},
     "output_type": "execute_result"
    }
   ],
   "source": [
    "# training\n",
    "n_v = train_data_C.shape[1] # Number of visible units; = # sites in alignment.\n",
    "n_h = 90\n",
    "nmc = 10 # Number of Monte Carlo steps between each update.\n",
    "lib = 1e-2 # L1b regularization. Default : 0.\n",
    "visible = 'Potts' # Nature of visible units potential. Here, Potts states.\n",
    "n_cv = 4\n",
    "hidden = 'dReLU' # Nature of hidden units potential. Here, dReLU potential.\n",
    "train_len = train_data_C.shape[0]\n",
    "RBM_DC6 = rbm.RBM(visible = visible, hidden = hidden, n_v = n_v, n_h = n_h, n_cv = n_cv)\n",
    "batch_size = 500 # Size of mini-batches (and number of Markov chains used).\n",
    "n_updates = int(2e4)\n",
    "n_iter = (n_updates // (train_data_C.shape[0] // batch_size))\n",
    "print('Using ', n_iter, ' epochs.')\n",
    "\n",
    "RBM_DC6.fit(train_data_C, batch_size = batch_size, n_iter = n_iter, l1b = lib, N_MC = nmc, verbose = 0, vverbose = 1)"
   ]
  },
  {
   "cell_type": "code",
   "execution_count": 15,
   "id": "1f92014f",
   "metadata": {},
   "outputs": [],
   "source": [
    "# resample test set with counts\n",
    "dataset_size = validation_set_s2n.shape[0] # same size of the validation dataset used for RBM-SU\n",
    "probs = validation_set_counts\n",
    "seqs = validation_set_s2n\n",
    "tot_probs = np.sum(probs)\n",
    "probs2 = np.array(probs/tot_probs, dtype = np.float64)\n",
    "tower = np.zeros(len(probs2), dtype = np.float64)\n",
    "t = 0\n",
    "for i, pr in enumerate(probs2):\n",
    "    t = t + pr\n",
    "    tower[i] = t\n",
    "resampled_seq2num = []\n",
    "for i in range(dataset_size):\n",
    "    x = np.random.random()\n",
    "    idx = tower.searchsorted(x)\n",
    "    resampled_seq2num.append(seqs[idx])\n",
    "resampled_seq2num = np.array(resampled_seq2num)\n",
    "test_data_C = np.copy(resampled_seq2num)"
   ]
  },
  {
   "cell_type": "code",
   "execution_count": 16,
   "id": "cdc9fa6e",
   "metadata": {},
   "outputs": [
    {
     "data": {
      "text/plain": [
       "''"
      ]
     },
     "execution_count": 16,
     "metadata": {},
     "output_type": "execute_result"
    },
    {
     "data": {
      "image/png": "[encoded data removed]",
      "text/plain": [
       "<Figure size 936x504 with 1 Axes>"
      ]
     },
     "metadata": {
      "needs_background": "light"
     },
     "output_type": "display_data"
    }
   ],
   "source": [
    "# check results on test set and on a set of random sequences\n",
    "rand_data = np.random.randint(low=0, high=3, size=test_data.shape, dtype=np.int16)\n",
    "\n",
    "fig = plt.figure(figsize=(13, 7), constrained_layout=False)\n",
    "ax = fig.add_subplot()\n",
    "ax.hist(RBM_DC6.likelihood(train_data_C), bins=50, density=True, histtype='step', lw=2, fill=False, label=\"Training set\")\n",
    "ax.hist(RBM_DC6.likelihood(test_data_C), bins=50, density=True, histtype='step', lw=3, fill=False, label=\"Test set\")\n",
    "ax.hist(RBM_DC6.likelihood(rand_data), bins=50, density=True, histtype='step', lw=2, fill=False, label=\"Random data\")\n",
    "\n",
    "ax.legend(fontsize=18, loc=1)\n",
    "ax.set_xlabel(\"Log-likelihood\", fontsize=18)\n",
    ";"
   ]
  },
  {
   "cell_type": "code",
   "execution_count": 17,
   "id": "3419ca9f",
   "metadata": {},
   "outputs": [],
   "source": [
    "# save RBM\n",
    "out_path = './RBM_retrained/'\n",
    "if not os.path.isdir(out_path): # check if folder exists\n",
    "    os.makedirs(out_path)\n",
    "    \n",
    "file_name = 'RBM_DC6.data'\n",
    "RBM_utils.saveRBM(out_path + file_name, RBM_DC6)"
   ]
  },
  {
   "cell_type": "markdown",
   "id": "3eb1d02e",
   "metadata": {},
   "source": [
    "# RBM-DC8 re-training"
   ]
  },
  {
   "cell_type": "code",
   "execution_count": 41,
   "id": "2365d18e",
   "metadata": {},
   "outputs": [],
   "source": [
    "# fix training and validation set\n",
    "perm = np.arange(all_data_8.shape[0])\n",
    "np.random.shuffle(perm)\n",
    "\n",
    "len_validation = all_data_8.shape[0] // 10\n",
    "training_set_s2n = all_data_8[perm][:-len_validation]\n",
    "training_set_counts = counts_8[perm][:-len_validation]\n",
    "validation_set_s2n = all_data_8[perm][-len_validation:]\n",
    "validation_set_counts = counts_8[perm][-len_validation:]"
   ]
  },
  {
   "cell_type": "code",
   "execution_count": 42,
   "id": "be2fb8b5",
   "metadata": {},
   "outputs": [],
   "source": [
    "#resample training set with counts\n",
    "dataset_size = training_set_s2n.shape[0] # same size of the training dataset used for RBM-SU\n",
    "probs = training_set_counts\n",
    "seqs = training_set_s2n\n",
    "tot_probs = np.sum(probs)\n",
    "probs2 = np.array(probs/tot_probs, dtype = np.float64)\n",
    "tower = np.zeros(len(probs2), dtype = np.float64)\n",
    "t = 0\n",
    "for i, pr in enumerate(probs2):\n",
    "    t = t + pr\n",
    "    tower[i] = t\n",
    "resampled_seq2num = []\n",
    "for i in range(dataset_size):\n",
    "    x = np.random.random()\n",
    "    idx = tower.searchsorted(x)\n",
    "    resampled_seq2num.append(seqs[idx])\n",
    "resampled_seq2num = np.array(resampled_seq2num)\n",
    "train_data_C = np.copy(resampled_seq2num)"
   ]
  },
  {
   "cell_type": "code",
   "execution_count": 43,
   "id": "6bb82162",
   "metadata": {},
   "outputs": [
    {
     "name": "stdout",
     "output_type": "stream",
     "text": [
      "Using  15  epochs.\n",
      "Starting epoch 1\n",
      "Starting epoch 2\n",
      "Starting epoch 3\n",
      "Starting epoch 4\n",
      "Starting epoch 5\n",
      "Starting epoch 6\n",
      "Starting epoch 7\n",
      "Starting epoch 8\n",
      "Starting epoch 9\n",
      "Starting epoch 10\n",
      "Starting epoch 11\n",
      "Starting epoch 12\n",
      "Starting epoch 13\n",
      "Starting epoch 14\n",
      "Starting epoch 15\n"
     ]
    },
    {
     "data": {
      "text/plain": [
       "{}"
      ]
     },
     "execution_count": 43,
     "metadata": {},
     "output_type": "execute_result"
    }
   ],
   "source": [
    "# training\n",
    "n_v = train_data_C.shape[1] # Number of visible units; = # sites in alignment.\n",
    "n_h = 90\n",
    "nmc = 10 # Number of Monte Carlo steps between each update.\n",
    "lib = 1e-2 # L1b regularization. Default : 0.\n",
    "visible = 'Potts' # Nature of visible units potential. Here, Potts states.\n",
    "n_cv = 4\n",
    "hidden = 'dReLU' # Nature of hidden units potential. Here, dReLU potential.\n",
    "train_len = train_data_C.shape[0]\n",
    "RBM_DC8 = rbm.RBM(visible = visible, hidden = hidden, n_v = n_v, n_h = n_h, n_cv = n_cv)\n",
    "batch_size = 500 # Size of mini-batches (and number of Markov chains used).\n",
    "n_updates = int(2e4)\n",
    "n_iter = (n_updates // (train_data_C.shape[0] // batch_size))\n",
    "print('Using ', n_iter, ' epochs.')\n",
    "\n",
    "RBM_DC8.fit(train_data_C, batch_size = batch_size, n_iter = n_iter, l1b = lib, N_MC = nmc, verbose = 0, vverbose = 1)"
   ]
  },
  {
   "cell_type": "code",
   "execution_count": 44,
   "id": "4b3a07bb",
   "metadata": {},
   "outputs": [],
   "source": [
    "# resample test set with counts\n",
    "dataset_size = validation_set_s2n.shape[0] # same size of the validation dataset used for RBM-SU\n",
    "probs = validation_set_counts\n",
    "seqs = validation_set_s2n\n",
    "tot_probs = np.sum(probs)\n",
    "probs2 = np.array(probs/tot_probs, dtype = np.float64)\n",
    "tower = np.zeros(len(probs2), dtype = np.float64)\n",
    "t = 0\n",
    "for i, pr in enumerate(probs2):\n",
    "    t = t + pr\n",
    "    tower[i] = t\n",
    "resampled_seq2num = []\n",
    "for i in range(dataset_size):\n",
    "    x = np.random.random()\n",
    "    idx = tower.searchsorted(x)\n",
    "    resampled_seq2num.append(seqs[idx])\n",
    "resampled_seq2num = np.array(resampled_seq2num)\n",
    "test_data_C = np.copy(resampled_seq2num)"
   ]
  },
  {
   "cell_type": "code",
   "execution_count": 47,
   "id": "d6e9688a",
   "metadata": {},
   "outputs": [
    {
     "name": "stdout",
     "output_type": "stream",
     "text": [
      "Mismatch dimensions (500, 90), [10, 90], reinitializating I\n",
      "Mismatch dimensions (500, 40, 4), [10, 40, 4], reinitializating I\n"
     ]
    },
    {
     "data": {
      "text/plain": [
       "''"
      ]
     },
     "execution_count": 47,
     "metadata": {},
     "output_type": "execute_result"
    },
    {
     "data": {
      "image/png": "[encoded data removed]",
      "text/plain": [
       "<Figure size 936x504 with 1 Axes>"
      ]
     },
     "metadata": {
      "needs_background": "light"
     },
     "output_type": "display_data"
    }
   ],
   "source": [
    "# check results on test set and on a set of random sequences\n",
    "rand_data = np.random.randint(low=0, high=3, size=test_data.shape, dtype=np.int16)\n",
    "\n",
    "fig = plt.figure(figsize=(13, 7), constrained_layout=False)\n",
    "ax = fig.add_subplot()\n",
    "ax.hist(RBM_DC8.likelihood(train_data_C), bins=50, density=True, histtype='step', lw=2, fill=False, label=\"Training set\")\n",
    "ax.hist(RBM_DC8.likelihood(test_data_C), bins=50, density=True, histtype='step', lw=3, fill=False, label=\"Test set\")\n",
    "ax.hist(RBM_DC8.likelihood(rand_data), bins=50, density=True, histtype='step', lw=2, fill=False, label=\"Random data\")\n",
    "\n",
    "ax.legend(fontsize=18, loc=1)\n",
    "ax.set_xlabel(\"Log-likelihood\", fontsize=18)\n",
    ";"
   ]
  },
  {
   "cell_type": "code",
   "execution_count": 46,
   "id": "5e37078d",
   "metadata": {},
   "outputs": [],
   "source": [
    "# save RBM\n",
    "out_path = './RBM_retrained/'\n",
    "if not os.path.isdir(out_path): # check if folder exists\n",
    "    os.makedirs(out_path)\n",
    "    \n",
    "file_name = 'RBM_DC8.data'\n",
    "RBM_utils.saveRBM(out_path + file_name, RBM_DC8)"
   ]
  },
  {
   "cell_type": "code",
   "execution_count": null,
   "id": "d9e0e0ed",
   "metadata": {},
   "outputs": [],
   "source": []
  },
  {
   "cell_type": "markdown",
   "id": "f6f51fd8",
   "metadata": {},
   "source": [
    "# RBM-SC8 re-training"
   ]
  },
  {
   "cell_type": "code",
   "execution_count": 48,
   "id": "38c8bb1a",
   "metadata": {
    "scrolled": true
   },
   "outputs": [],
   "source": [
    "# fix training and validation set\n",
    "perm = np.arange(all_seq_8_lr.shape[0])\n",
    "np.random.shuffle(perm)\n",
    "\n",
    "len_validation = all_seq_8_lr.shape[0] // 10\n",
    "training_set_s2n = all_seq_8_lr[perm][:-len_validation]\n",
    "training_set_counts = counts_8_lr[perm][:-len_validation]\n",
    "validation_set_s2n = all_seq_8_lr[perm][-len_validation:]\n",
    "validation_set_counts = counts_8_lr[perm][-len_validation:]"
   ]
  },
  {
   "cell_type": "code",
   "execution_count": 49,
   "id": "b83bd6e8",
   "metadata": {},
   "outputs": [],
   "source": [
    "#resample training set with counts\n",
    "dataset_size = training_set_s2n.shape[0] # same size of the training dataset used for RBM-SU\n",
    "probs = training_set_counts\n",
    "seqs = training_set_s2n\n",
    "tot_probs = np.sum(probs)\n",
    "probs2 = np.array(probs/tot_probs, dtype = np.float64)\n",
    "tower = np.zeros(len(probs2), dtype = np.float64)\n",
    "t = 0\n",
    "for i, pr in enumerate(probs2):\n",
    "    t = t + pr\n",
    "    tower[i] = t\n",
    "resampled_seq2num = []\n",
    "for i in range(dataset_size):\n",
    "    x = np.random.random()\n",
    "    idx = tower.searchsorted(x)\n",
    "    resampled_seq2num.append(seqs[idx])\n",
    "resampled_seq2num = np.array(resampled_seq2num)\n",
    "train_data_C = np.copy(resampled_seq2num)"
   ]
  },
  {
   "cell_type": "code",
   "execution_count": 50,
   "id": "450a709d",
   "metadata": {
    "scrolled": true
   },
   "outputs": [
    {
     "name": "stdout",
     "output_type": "stream",
     "text": [
      "Using  58  epochs.\n",
      "Starting epoch 1\n",
      "Starting epoch 2\n",
      "Starting epoch 3\n",
      "Starting epoch 4\n",
      "Starting epoch 5\n",
      "Starting epoch 6\n",
      "Starting epoch 7\n",
      "Starting epoch 8\n",
      "Starting epoch 9\n",
      "Starting epoch 10\n",
      "Starting epoch 11\n",
      "Starting epoch 12\n",
      "Starting epoch 13\n",
      "Starting epoch 14\n",
      "Starting epoch 15\n",
      "Starting epoch 16\n",
      "Starting epoch 17\n",
      "Starting epoch 18\n",
      "Starting epoch 19\n",
      "Starting epoch 20\n",
      "Starting epoch 21\n",
      "Starting epoch 22\n",
      "Starting epoch 23\n",
      "Starting epoch 24\n",
      "Starting epoch 25\n",
      "Starting epoch 26\n",
      "Starting epoch 27\n",
      "Starting epoch 28\n",
      "Starting epoch 29\n",
      "Starting epoch 30\n",
      "Starting epoch 31\n",
      "Starting epoch 32\n",
      "Starting epoch 33\n",
      "Starting epoch 34\n",
      "Starting epoch 35\n",
      "Starting epoch 36\n",
      "Starting epoch 37\n",
      "Starting epoch 38\n",
      "Starting epoch 39\n",
      "Starting epoch 40\n",
      "Starting epoch 41\n",
      "Starting epoch 42\n",
      "Starting epoch 43\n",
      "Starting epoch 44\n",
      "Starting epoch 45\n",
      "Starting epoch 46\n",
      "Starting epoch 47\n",
      "Starting epoch 48\n",
      "Starting epoch 49\n",
      "Starting epoch 50\n",
      "Starting epoch 51\n",
      "Starting epoch 52\n",
      "Starting epoch 53\n",
      "Starting epoch 54\n",
      "Starting epoch 55\n",
      "Starting epoch 56\n",
      "Starting epoch 57\n",
      "Starting epoch 58\n"
     ]
    },
    {
     "data": {
      "text/plain": [
       "{}"
      ]
     },
     "execution_count": 50,
     "metadata": {},
     "output_type": "execute_result"
    }
   ],
   "source": [
    "# training\n",
    "n_v = train_data_C.shape[1]\n",
    "n_h = 80\n",
    "nmc = 2\n",
    "lib = 1e-2\n",
    "visible = 'Potts'\n",
    "n_cv = 4\n",
    "hidden = 'dReLU'\n",
    "train_len = train_data_C.shape[0]\n",
    "RBM_SC = rbm.RBM(visible = visible, hidden = hidden, n_v = n_v, n_h = n_h, n_cv = n_cv)\n",
    "batch_size = 1000\n",
    "n_updates = int(2e4)\n",
    "n_iter = (n_updates // (train_data_C.shape[0] // batch_size))\n",
    "print('Using ', n_iter, ' epochs.')\n",
    "\n",
    "RBM_SC.fit(train_data_C, batch_size = batch_size, n_iter = n_iter, l1b = lib, N_MC = nmc, verbose = 0, vverbose = 1)"
   ]
  },
  {
   "cell_type": "code",
   "execution_count": 51,
   "id": "095030d9",
   "metadata": {},
   "outputs": [],
   "source": [
    "# resample test set with counts\n",
    "dataset_size = validation_set_s2n.shape[0] # same size of the validation dataset used for RBM-SU\n",
    "probs = validation_set_counts\n",
    "seqs = validation_set_s2n\n",
    "tot_probs = np.sum(probs)\n",
    "probs2 = np.array(probs/tot_probs, dtype = np.float64)\n",
    "tower = np.zeros(len(probs2), dtype = np.float64)\n",
    "t = 0\n",
    "for i, pr in enumerate(probs2):\n",
    "    t = t + pr\n",
    "    tower[i] = t\n",
    "resampled_seq2num = []\n",
    "for i in range(dataset_size):\n",
    "    x = np.random.random()\n",
    "    idx = tower.searchsorted(x)\n",
    "    resampled_seq2num.append(seqs[idx])\n",
    "resampled_seq2num = np.array(resampled_seq2num)\n",
    "test_data_C = np.copy(resampled_seq2num)"
   ]
  },
  {
   "cell_type": "code",
   "execution_count": 52,
   "id": "0d72e32a",
   "metadata": {},
   "outputs": [
    {
     "name": "stdout",
     "output_type": "stream",
     "text": [
      "Mismatch dimensions (1000, 80), [10, 80], reinitializating I\n",
      "Mismatch dimensions (1000, 20, 4), [10, 20, 4], reinitializating I\n"
     ]
    },
    {
     "data": {
      "text/plain": [
       "''"
      ]
     },
     "execution_count": 52,
     "metadata": {},
     "output_type": "execute_result"
    },
    {
     "data": {
      "image/png": "[encoded data removed]",
      "text/plain": [
       "<Figure size 936x504 with 1 Axes>"
      ]
     },
     "metadata": {
      "needs_background": "light"
     },
     "output_type": "display_data"
    }
   ],
   "source": [
    "# check results on test set and on a set of random sequences\n",
    "rand_data = np.random.randint(low=0, high=3, size=test_data.shape, dtype=np.int16)\n",
    "\n",
    "fig = plt.figure(figsize=(13, 7), constrained_layout=False)\n",
    "ax = fig.add_subplot()\n",
    "ax.hist(RBM_SC.likelihood(train_data_C), bins=50, density=True, histtype='step', lw=2, fill=False, label=\"Training set\")\n",
    "ax.hist(RBM_SC.likelihood(test_data_C), bins=50, density=True, histtype='step', lw=3, fill=False, label=\"Test set\")\n",
    "ax.hist(RBM_SC.likelihood(rand_data), bins=50, density=True, histtype='step', lw=2, fill=False, label=\"Random data\")\n",
    "\n",
    "ax.legend(fontsize=18, loc=1)\n",
    "ax.set_xlabel(\"Log-likelihood\", fontsize=18)\n",
    ";"
   ]
  },
  {
   "cell_type": "code",
   "execution_count": 53,
   "id": "92229277",
   "metadata": {},
   "outputs": [],
   "source": [
    "# save RBM\n",
    "out_path = './RBM_retrained/'\n",
    "if not os.path.isdir(out_path): # check if folder exists\n",
    "    os.makedirs(out_path)\n",
    "    \n",
    "file_name = 'RBM_SC.data'\n",
    "RBM_utils.saveRBM(out_path + file_name, RBM_SC)"
   ]
  },
  {
   "cell_type": "code",
   "execution_count": null,
   "id": "0bbec044",
   "metadata": {},
   "outputs": [],
   "source": []
  },
  {
   "cell_type": "markdown",
   "id": "a4ef2b21",
   "metadata": {},
   "source": [
    "# RBM-SU8 re-training"
   ]
  },
  {
   "cell_type": "code",
   "execution_count": 27,
   "id": "bfdc5ee1",
   "metadata": {},
   "outputs": [],
   "source": [
    "# prepare training and test set\n",
    "n_tot_8_lr = len(all_data_8_lr.sequence)\n",
    "permutation = np.random.permutation(n_tot_8_lr)\n",
    "rbm_s_dataset = all_seq_8_lr[permutation]\n",
    "test_len = rbm_s_dataset.shape[0] // 10\n",
    "train_data = rbm_s_dataset[test_len:]\n",
    "test_data = rbm_s_dataset[:test_len]"
   ]
  },
  {
   "cell_type": "code",
   "execution_count": 28,
   "id": "f69c273c",
   "metadata": {
    "scrolled": true
   },
   "outputs": [
    {
     "name": "stdout",
     "output_type": "stream",
     "text": [
      "Using  29  epochs.\n",
      "Starting epoch 1\n",
      "Starting epoch 2\n",
      "Starting epoch 3\n",
      "Starting epoch 4\n",
      "Starting epoch 5\n",
      "Starting epoch 6\n",
      "Starting epoch 7\n",
      "Starting epoch 8\n",
      "Starting epoch 9\n",
      "Starting epoch 10\n",
      "Starting epoch 11\n",
      "Starting epoch 12\n",
      "Starting epoch 13\n",
      "Starting epoch 14\n",
      "Starting epoch 15\n",
      "Starting epoch 16\n",
      "Starting epoch 17\n",
      "Starting epoch 18\n",
      "Starting epoch 19\n",
      "Starting epoch 20\n",
      "Starting epoch 21\n",
      "Starting epoch 22\n",
      "Starting epoch 23\n",
      "Starting epoch 24\n",
      "Starting epoch 25\n",
      "Starting epoch 26\n",
      "Starting epoch 27\n",
      "Starting epoch 28\n",
      "Starting epoch 29\n"
     ]
    },
    {
     "data": {
      "text/plain": [
       "{}"
      ]
     },
     "execution_count": 28,
     "metadata": {},
     "output_type": "execute_result"
    }
   ],
   "source": [
    "# training\n",
    "n_v = train_data.shape[1]\n",
    "n_h = 70\n",
    "nmc = 4\n",
    "lib = 1e-2\n",
    "visible = 'Potts'\n",
    "n_cv = 4\n",
    "hidden = 'dReLU'\n",
    "train_len = train_data.shape[0]\n",
    "test_len = test_data.shape[0]\n",
    "RBM_SU = rbm.RBM(visible = visible, hidden = hidden, n_v = n_v, n_h = n_h, n_cv = n_cv)\n",
    "batch_size = 500\n",
    "n_updates = int(2e4)\n",
    "n_iter = (n_updates // (train_data.shape[0] // batch_size))\n",
    "print('Using ', n_iter, ' epochs.')\n",
    "\n",
    "RBM_SU.fit(train_data, batch_size = batch_size, n_iter = n_iter, l1b = lib, N_MC = nmc, verbose = 0, vverbose = 1)"
   ]
  },
  {
   "cell_type": "code",
   "execution_count": 29,
   "id": "ac5c339c",
   "metadata": {},
   "outputs": [
    {
     "name": "stdout",
     "output_type": "stream",
     "text": [
      "Mismatch dimensions (500, 70), [10, 70], reinitializating I\n",
      "Mismatch dimensions (500, 20, 4), [10, 20, 4], reinitializating I\n"
     ]
    },
    {
     "data": {
      "text/plain": [
       "''"
      ]
     },
     "execution_count": 29,
     "metadata": {},
     "output_type": "execute_result"
    },
    {
     "data": {
      "image/png": "[encoded data removed]",
      "text/plain": [
       "<Figure size 936x504 with 1 Axes>"
      ]
     },
     "metadata": {
      "needs_background": "light"
     },
     "output_type": "display_data"
    }
   ],
   "source": [
    "# check results on test set and on a set of random sequences\n",
    "rand_data = np.random.randint(low=0, high=3, size=test_data.shape, dtype=np.int16)\n",
    "\n",
    "fig = plt.figure(figsize=(13, 7), constrained_layout=False)\n",
    "ax = fig.add_subplot()\n",
    "ax.hist(RBM_SU.likelihood(train_data), bins=50, density=True, histtype='step', lw=2, fill=False, label=\"Training set\")\n",
    "ax.hist(RBM_SU.likelihood(test_data), bins=50, density=True, histtype='step', lw=3, fill=False, label=\"Test set\")\n",
    "ax.hist(RBM_SU.likelihood(rand_data), bins=50, density=True, histtype='step', lw=2, fill=False, label=\"Random data\")\n",
    "\n",
    "ax.legend(fontsize=18, loc=2)\n",
    "ax.set_xlabel(\"Log-likelihood\", fontsize=18)\n",
    ";"
   ]
  },
  {
   "cell_type": "code",
   "execution_count": 30,
   "id": "267fad02",
   "metadata": {},
   "outputs": [],
   "source": [
    "# save RBM\n",
    "out_path = './RBM_retrained/'\n",
    "if not os.path.isdir(out_path): # check if folder exists\n",
    "    os.makedirs(out_path)\n",
    "    \n",
    "file_name = 'RBM_SU.data'\n",
    "RBM_utils.saveRBM(out_path + file_name, RBM_SU)"
   ]
  },
  {
   "cell_type": "code",
   "execution_count": null,
   "id": "e7fc355c",
   "metadata": {},
   "outputs": [],
   "source": []
  }
 ],
 "metadata": {
  "kernelspec": {
   "display_name": "Python 3 (ipykernel)",
   "language": "python",
   "name": "python3"
  },
  "language_info": {
   "codemirror_mode": {
    "name": "ipython",
    "version": 3
   },
   "file_extension": ".py",
   "mimetype": "text/x-python",
   "name": "python",
   "nbconvert_exporter": "python",
   "pygments_lexer": "ipython3",
   "version": "3.8.8"
  }
 },
 "nbformat": 4,
 "nbformat_minor": 5
}
